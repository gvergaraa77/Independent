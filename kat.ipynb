{
  "nbformat": 4,
  "nbformat_minor": 0,
  "metadata": {
    "colab": {
      "name": "kat.ipynb",
      "provenance": [],
      "collapsed_sections": []
    },
    "kernelspec": {
      "name": "python3",
      "display_name": "Python 3"
    },
    "language_info": {
      "name": "python"
    }
  },
  "cells": [
    {
      "cell_type": "code",
      "metadata": {
        "id": "se3w9j771lek"
      },
      "source": [
        "import pandas as pd\n",
        "import numpy as np\n",
        "import matplotlib.pyplot as plt\n",
        "import seaborn as sns\n",
        "\n",
        "sns.set()"
      ],
      "execution_count": null,
      "outputs": []
    },
    {
      "cell_type": "code",
      "metadata": {
        "id": "qtMOVvLr7sDc"
      },
      "source": [
        "import sqlite3 as sql"
      ],
      "execution_count": null,
      "outputs": []
    },
    {
      "cell_type": "code",
      "metadata": {
        "id": "SsmwyqGF5e9F"
      },
      "source": [
        "%load_ext rpy2.ipython"
      ],
      "execution_count": null,
      "outputs": []
    },
    {
      "cell_type": "code",
      "metadata": {
        "id": "ewfr25781ou2"
      },
      "source": [
        "url=\"https://raw.githubusercontent.com/gvergaraa77/Dataset/main/Preprocessing.csv\""
      ],
      "execution_count": null,
      "outputs": []
    },
    {
      "cell_type": "code",
      "metadata": {
        "id": "e6bK3mYv2fLQ"
      },
      "source": [
        "dataset=pd.read_csv(url, delimiter=';')"
      ],
      "execution_count": null,
      "outputs": []
    },
    {
      "cell_type": "code",
      "metadata": {
        "colab": {
          "base_uri": "https://localhost:8080/",
          "height": 419
        },
        "id": "s0P2YUJ82o8P",
        "outputId": "cfb0b4c4-460d-49b7-d119-2ed69e897475"
      },
      "source": [
        "dataset"
      ],
      "execution_count": null,
      "outputs": [
        {
          "output_type": "execute_result",
          "data": {
            "text/html": [
              "<div>\n",
              "<style scoped>\n",
              "    .dataframe tbody tr th:only-of-type {\n",
              "        vertical-align: middle;\n",
              "    }\n",
              "\n",
              "    .dataframe tbody tr th {\n",
              "        vertical-align: top;\n",
              "    }\n",
              "\n",
              "    .dataframe thead th {\n",
              "        text-align: right;\n",
              "    }\n",
              "</style>\n",
              "<table border=\"1\" class=\"dataframe\">\n",
              "  <thead>\n",
              "    <tr style=\"text-align: right;\">\n",
              "      <th></th>\n",
              "      <th>Origen</th>\n",
              "      <th>Genero</th>\n",
              "      <th>Hombres</th>\n",
              "      <th>Mujeres</th>\n",
              "      <th>Sur</th>\n",
              "      <th>Norte</th>\n",
              "      <th>No encontrada</th>\n",
              "    </tr>\n",
              "  </thead>\n",
              "  <tbody>\n",
              "    <tr>\n",
              "      <th>0</th>\n",
              "      <td>N</td>\n",
              "      <td>M</td>\n",
              "      <td>14</td>\n",
              "      <td>11</td>\n",
              "      <td>10</td>\n",
              "      <td>15</td>\n",
              "      <td>NaN</td>\n",
              "    </tr>\n",
              "    <tr>\n",
              "      <th>1</th>\n",
              "      <td>S</td>\n",
              "      <td>F</td>\n",
              "      <td>37</td>\n",
              "      <td>11</td>\n",
              "      <td>14</td>\n",
              "      <td>34</td>\n",
              "      <td>NaN</td>\n",
              "    </tr>\n",
              "    <tr>\n",
              "      <th>2</th>\n",
              "      <td>N</td>\n",
              "      <td>M</td>\n",
              "      <td>6</td>\n",
              "      <td>5</td>\n",
              "      <td>4</td>\n",
              "      <td>7</td>\n",
              "      <td>NaN</td>\n",
              "    </tr>\n",
              "    <tr>\n",
              "      <th>3</th>\n",
              "      <td>N</td>\n",
              "      <td>M</td>\n",
              "      <td>14</td>\n",
              "      <td>6</td>\n",
              "      <td>8</td>\n",
              "      <td>12</td>\n",
              "      <td>NaN</td>\n",
              "    </tr>\n",
              "    <tr>\n",
              "      <th>4</th>\n",
              "      <td>S</td>\n",
              "      <td>F</td>\n",
              "      <td>26</td>\n",
              "      <td>8</td>\n",
              "      <td>15</td>\n",
              "      <td>19</td>\n",
              "      <td>NaN</td>\n",
              "    </tr>\n",
              "    <tr>\n",
              "      <th>...</th>\n",
              "      <td>...</td>\n",
              "      <td>...</td>\n",
              "      <td>...</td>\n",
              "      <td>...</td>\n",
              "      <td>...</td>\n",
              "      <td>...</td>\n",
              "      <td>...</td>\n",
              "    </tr>\n",
              "    <tr>\n",
              "      <th>64</th>\n",
              "      <td>S</td>\n",
              "      <td>M</td>\n",
              "      <td>126</td>\n",
              "      <td>39</td>\n",
              "      <td>98</td>\n",
              "      <td>67</td>\n",
              "      <td>NaN</td>\n",
              "    </tr>\n",
              "    <tr>\n",
              "      <th>65</th>\n",
              "      <td>S</td>\n",
              "      <td>M</td>\n",
              "      <td>107</td>\n",
              "      <td>57</td>\n",
              "      <td>15</td>\n",
              "      <td>147</td>\n",
              "      <td>2.0</td>\n",
              "    </tr>\n",
              "    <tr>\n",
              "      <th>66</th>\n",
              "      <td>S</td>\n",
              "      <td>F</td>\n",
              "      <td>34</td>\n",
              "      <td>8</td>\n",
              "      <td>15</td>\n",
              "      <td>27</td>\n",
              "      <td>NaN</td>\n",
              "    </tr>\n",
              "    <tr>\n",
              "      <th>67</th>\n",
              "      <td>S</td>\n",
              "      <td>M</td>\n",
              "      <td>15</td>\n",
              "      <td>3</td>\n",
              "      <td>8</td>\n",
              "      <td>10</td>\n",
              "      <td>NaN</td>\n",
              "    </tr>\n",
              "    <tr>\n",
              "      <th>68</th>\n",
              "      <td>S</td>\n",
              "      <td>M</td>\n",
              "      <td>20</td>\n",
              "      <td>8</td>\n",
              "      <td>4</td>\n",
              "      <td>24</td>\n",
              "      <td>NaN</td>\n",
              "    </tr>\n",
              "  </tbody>\n",
              "</table>\n",
              "<p>69 rows × 7 columns</p>\n",
              "</div>"
            ],
            "text/plain": [
              "   Origen Genero  Hombres  Mujeres  Sur  Norte  No encontrada\n",
              "0       N      M       14       11   10     15            NaN\n",
              "1       S      F       37       11   14     34            NaN\n",
              "2       N      M        6        5    4      7            NaN\n",
              "3       N      M       14        6    8     12            NaN\n",
              "4       S      F       26        8   15     19            NaN\n",
              "..    ...    ...      ...      ...  ...    ...            ...\n",
              "64      S      M      126       39   98     67            NaN\n",
              "65      S      M      107       57   15    147            2.0\n",
              "66      S      F       34        8   15     27            NaN\n",
              "67      S      M       15        3    8     10            NaN\n",
              "68      S      M       20        8    4     24            NaN\n",
              "\n",
              "[69 rows x 7 columns]"
            ]
          },
          "metadata": {},
          "execution_count": 7
        }
      ]
    },
    {
      "cell_type": "code",
      "metadata": {
        "id": "oA79FphC5gbI"
      },
      "source": [
        "df=dataset"
      ],
      "execution_count": null,
      "outputs": []
    },
    {
      "cell_type": "code",
      "metadata": {
        "id": "-B1DWwpb-owV"
      },
      "source": [
        "df=df.astype({\"Hombres\":float,\"Mujeres\":float,\"Norte\":float,\"Sur\":float})"
      ],
      "execution_count": null,
      "outputs": []
    },
    {
      "cell_type": "code",
      "metadata": {
        "colab": {
          "base_uri": "https://localhost:8080/",
          "height": 419
        },
        "id": "yIAeseRo-9OF",
        "outputId": "e97a7340-f2eb-4c98-afe4-2a4386e2e93a"
      },
      "source": [
        "df"
      ],
      "execution_count": null,
      "outputs": [
        {
          "output_type": "execute_result",
          "data": {
            "text/html": [
              "<div>\n",
              "<style scoped>\n",
              "    .dataframe tbody tr th:only-of-type {\n",
              "        vertical-align: middle;\n",
              "    }\n",
              "\n",
              "    .dataframe tbody tr th {\n",
              "        vertical-align: top;\n",
              "    }\n",
              "\n",
              "    .dataframe thead th {\n",
              "        text-align: right;\n",
              "    }\n",
              "</style>\n",
              "<table border=\"1\" class=\"dataframe\">\n",
              "  <thead>\n",
              "    <tr style=\"text-align: right;\">\n",
              "      <th></th>\n",
              "      <th>Origen</th>\n",
              "      <th>Genero</th>\n",
              "      <th>Hombres</th>\n",
              "      <th>Mujeres</th>\n",
              "      <th>Sur</th>\n",
              "      <th>Norte</th>\n",
              "      <th>No encontrada</th>\n",
              "    </tr>\n",
              "  </thead>\n",
              "  <tbody>\n",
              "    <tr>\n",
              "      <th>0</th>\n",
              "      <td>N</td>\n",
              "      <td>M</td>\n",
              "      <td>14.0</td>\n",
              "      <td>11.0</td>\n",
              "      <td>10.0</td>\n",
              "      <td>15.0</td>\n",
              "      <td>NaN</td>\n",
              "    </tr>\n",
              "    <tr>\n",
              "      <th>1</th>\n",
              "      <td>S</td>\n",
              "      <td>F</td>\n",
              "      <td>37.0</td>\n",
              "      <td>11.0</td>\n",
              "      <td>14.0</td>\n",
              "      <td>34.0</td>\n",
              "      <td>NaN</td>\n",
              "    </tr>\n",
              "    <tr>\n",
              "      <th>2</th>\n",
              "      <td>N</td>\n",
              "      <td>M</td>\n",
              "      <td>6.0</td>\n",
              "      <td>5.0</td>\n",
              "      <td>4.0</td>\n",
              "      <td>7.0</td>\n",
              "      <td>NaN</td>\n",
              "    </tr>\n",
              "    <tr>\n",
              "      <th>3</th>\n",
              "      <td>N</td>\n",
              "      <td>M</td>\n",
              "      <td>14.0</td>\n",
              "      <td>6.0</td>\n",
              "      <td>8.0</td>\n",
              "      <td>12.0</td>\n",
              "      <td>NaN</td>\n",
              "    </tr>\n",
              "    <tr>\n",
              "      <th>4</th>\n",
              "      <td>S</td>\n",
              "      <td>F</td>\n",
              "      <td>26.0</td>\n",
              "      <td>8.0</td>\n",
              "      <td>15.0</td>\n",
              "      <td>19.0</td>\n",
              "      <td>NaN</td>\n",
              "    </tr>\n",
              "    <tr>\n",
              "      <th>...</th>\n",
              "      <td>...</td>\n",
              "      <td>...</td>\n",
              "      <td>...</td>\n",
              "      <td>...</td>\n",
              "      <td>...</td>\n",
              "      <td>...</td>\n",
              "      <td>...</td>\n",
              "    </tr>\n",
              "    <tr>\n",
              "      <th>64</th>\n",
              "      <td>S</td>\n",
              "      <td>M</td>\n",
              "      <td>126.0</td>\n",
              "      <td>39.0</td>\n",
              "      <td>98.0</td>\n",
              "      <td>67.0</td>\n",
              "      <td>NaN</td>\n",
              "    </tr>\n",
              "    <tr>\n",
              "      <th>65</th>\n",
              "      <td>S</td>\n",
              "      <td>M</td>\n",
              "      <td>107.0</td>\n",
              "      <td>57.0</td>\n",
              "      <td>15.0</td>\n",
              "      <td>147.0</td>\n",
              "      <td>2.0</td>\n",
              "    </tr>\n",
              "    <tr>\n",
              "      <th>66</th>\n",
              "      <td>S</td>\n",
              "      <td>F</td>\n",
              "      <td>34.0</td>\n",
              "      <td>8.0</td>\n",
              "      <td>15.0</td>\n",
              "      <td>27.0</td>\n",
              "      <td>NaN</td>\n",
              "    </tr>\n",
              "    <tr>\n",
              "      <th>67</th>\n",
              "      <td>S</td>\n",
              "      <td>M</td>\n",
              "      <td>15.0</td>\n",
              "      <td>3.0</td>\n",
              "      <td>8.0</td>\n",
              "      <td>10.0</td>\n",
              "      <td>NaN</td>\n",
              "    </tr>\n",
              "    <tr>\n",
              "      <th>68</th>\n",
              "      <td>S</td>\n",
              "      <td>M</td>\n",
              "      <td>20.0</td>\n",
              "      <td>8.0</td>\n",
              "      <td>4.0</td>\n",
              "      <td>24.0</td>\n",
              "      <td>NaN</td>\n",
              "    </tr>\n",
              "  </tbody>\n",
              "</table>\n",
              "<p>69 rows × 7 columns</p>\n",
              "</div>"
            ],
            "text/plain": [
              "   Origen Genero  Hombres  Mujeres   Sur  Norte  No encontrada\n",
              "0       N      M     14.0     11.0  10.0   15.0            NaN\n",
              "1       S      F     37.0     11.0  14.0   34.0            NaN\n",
              "2       N      M      6.0      5.0   4.0    7.0            NaN\n",
              "3       N      M     14.0      6.0   8.0   12.0            NaN\n",
              "4       S      F     26.0      8.0  15.0   19.0            NaN\n",
              "..    ...    ...      ...      ...   ...    ...            ...\n",
              "64      S      M    126.0     39.0  98.0   67.0            NaN\n",
              "65      S      M    107.0     57.0  15.0  147.0            2.0\n",
              "66      S      F     34.0      8.0  15.0   27.0            NaN\n",
              "67      S      M     15.0      3.0   8.0   10.0            NaN\n",
              "68      S      M     20.0      8.0   4.0   24.0            NaN\n",
              "\n",
              "[69 rows x 7 columns]"
            ]
          },
          "metadata": {},
          "execution_count": 10
        }
      ]
    },
    {
      "cell_type": "code",
      "metadata": {
        "colab": {
          "base_uri": "https://localhost:8080/"
        },
        "id": "TteEDJHV78qZ",
        "outputId": "e6b3c597-8135-4aba-bb47-b3cce87c1f2d"
      },
      "source": [
        "conn = sql.connect('dfkatrim.db')\n",
        "df.to_sql('dfkatrim', conn)"
      ],
      "execution_count": null,
      "outputs": [
        {
          "output_type": "stream",
          "name": "stderr",
          "text": [
            "/usr/local/lib/python3.7/dist-packages/pandas/core/generic.py:2615: UserWarning: The spaces in these column names will not be changed. In pandas versions < 0.14, spaces were converted to underscores.\n",
            "  method=method,\n"
          ]
        }
      ]
    },
    {
      "cell_type": "code",
      "metadata": {
        "colab": {
          "base_uri": "https://localhost:8080/",
          "height": 419
        },
        "id": "ggdbAqQ0EeFo",
        "outputId": "6c1068cf-2af7-45ac-9715-b8c31586d557"
      },
      "source": [
        "df=pd.read_sql('SELECT Origen AS \"Nacionalidad\", Genero AS \"Género\", Hombres, Mujeres, Hombres+Mujeres AS \"Total\", Hombres/(Hombres+Mujeres) AS \"Porc Hombres\", Mujeres/(Hombres+Mujeres) AS \"Porc Mujeres\", Norte, Sur, Norte+Sur AS \"Total Global\", Norte/(Norte+Sur) AS \"Porc Norte\", Sur/(Norte+Sur) AS \"Porc Sur\" FROM dfkatrim' ,conn)\n",
        "df"
      ],
      "execution_count": null,
      "outputs": [
        {
          "output_type": "execute_result",
          "data": {
            "text/html": [
              "<div>\n",
              "<style scoped>\n",
              "    .dataframe tbody tr th:only-of-type {\n",
              "        vertical-align: middle;\n",
              "    }\n",
              "\n",
              "    .dataframe tbody tr th {\n",
              "        vertical-align: top;\n",
              "    }\n",
              "\n",
              "    .dataframe thead th {\n",
              "        text-align: right;\n",
              "    }\n",
              "</style>\n",
              "<table border=\"1\" class=\"dataframe\">\n",
              "  <thead>\n",
              "    <tr style=\"text-align: right;\">\n",
              "      <th></th>\n",
              "      <th>Nacionalidad</th>\n",
              "      <th>Género</th>\n",
              "      <th>Hombres</th>\n",
              "      <th>Mujeres</th>\n",
              "      <th>Total</th>\n",
              "      <th>Porc Hombres</th>\n",
              "      <th>Porc Mujeres</th>\n",
              "      <th>Norte</th>\n",
              "      <th>Sur</th>\n",
              "      <th>Total Global</th>\n",
              "      <th>Porc Norte</th>\n",
              "      <th>Porc Sur</th>\n",
              "    </tr>\n",
              "  </thead>\n",
              "  <tbody>\n",
              "    <tr>\n",
              "      <th>0</th>\n",
              "      <td>N</td>\n",
              "      <td>M</td>\n",
              "      <td>14.0</td>\n",
              "      <td>11.0</td>\n",
              "      <td>25.0</td>\n",
              "      <td>0.560000</td>\n",
              "      <td>0.440000</td>\n",
              "      <td>15.0</td>\n",
              "      <td>10.0</td>\n",
              "      <td>25.0</td>\n",
              "      <td>0.600000</td>\n",
              "      <td>0.400000</td>\n",
              "    </tr>\n",
              "    <tr>\n",
              "      <th>1</th>\n",
              "      <td>S</td>\n",
              "      <td>F</td>\n",
              "      <td>37.0</td>\n",
              "      <td>11.0</td>\n",
              "      <td>48.0</td>\n",
              "      <td>0.770833</td>\n",
              "      <td>0.229167</td>\n",
              "      <td>34.0</td>\n",
              "      <td>14.0</td>\n",
              "      <td>48.0</td>\n",
              "      <td>0.708333</td>\n",
              "      <td>0.291667</td>\n",
              "    </tr>\n",
              "    <tr>\n",
              "      <th>2</th>\n",
              "      <td>N</td>\n",
              "      <td>M</td>\n",
              "      <td>6.0</td>\n",
              "      <td>5.0</td>\n",
              "      <td>11.0</td>\n",
              "      <td>0.545455</td>\n",
              "      <td>0.454545</td>\n",
              "      <td>7.0</td>\n",
              "      <td>4.0</td>\n",
              "      <td>11.0</td>\n",
              "      <td>0.636364</td>\n",
              "      <td>0.363636</td>\n",
              "    </tr>\n",
              "    <tr>\n",
              "      <th>3</th>\n",
              "      <td>N</td>\n",
              "      <td>M</td>\n",
              "      <td>14.0</td>\n",
              "      <td>6.0</td>\n",
              "      <td>20.0</td>\n",
              "      <td>0.700000</td>\n",
              "      <td>0.300000</td>\n",
              "      <td>12.0</td>\n",
              "      <td>8.0</td>\n",
              "      <td>20.0</td>\n",
              "      <td>0.600000</td>\n",
              "      <td>0.400000</td>\n",
              "    </tr>\n",
              "    <tr>\n",
              "      <th>4</th>\n",
              "      <td>S</td>\n",
              "      <td>F</td>\n",
              "      <td>26.0</td>\n",
              "      <td>8.0</td>\n",
              "      <td>34.0</td>\n",
              "      <td>0.764706</td>\n",
              "      <td>0.235294</td>\n",
              "      <td>19.0</td>\n",
              "      <td>15.0</td>\n",
              "      <td>34.0</td>\n",
              "      <td>0.558824</td>\n",
              "      <td>0.441176</td>\n",
              "    </tr>\n",
              "    <tr>\n",
              "      <th>...</th>\n",
              "      <td>...</td>\n",
              "      <td>...</td>\n",
              "      <td>...</td>\n",
              "      <td>...</td>\n",
              "      <td>...</td>\n",
              "      <td>...</td>\n",
              "      <td>...</td>\n",
              "      <td>...</td>\n",
              "      <td>...</td>\n",
              "      <td>...</td>\n",
              "      <td>...</td>\n",
              "      <td>...</td>\n",
              "    </tr>\n",
              "    <tr>\n",
              "      <th>64</th>\n",
              "      <td>S</td>\n",
              "      <td>M</td>\n",
              "      <td>126.0</td>\n",
              "      <td>39.0</td>\n",
              "      <td>165.0</td>\n",
              "      <td>0.763636</td>\n",
              "      <td>0.236364</td>\n",
              "      <td>67.0</td>\n",
              "      <td>98.0</td>\n",
              "      <td>165.0</td>\n",
              "      <td>0.406061</td>\n",
              "      <td>0.593939</td>\n",
              "    </tr>\n",
              "    <tr>\n",
              "      <th>65</th>\n",
              "      <td>S</td>\n",
              "      <td>M</td>\n",
              "      <td>107.0</td>\n",
              "      <td>57.0</td>\n",
              "      <td>164.0</td>\n",
              "      <td>0.652439</td>\n",
              "      <td>0.347561</td>\n",
              "      <td>147.0</td>\n",
              "      <td>15.0</td>\n",
              "      <td>162.0</td>\n",
              "      <td>0.907407</td>\n",
              "      <td>0.092593</td>\n",
              "    </tr>\n",
              "    <tr>\n",
              "      <th>66</th>\n",
              "      <td>S</td>\n",
              "      <td>F</td>\n",
              "      <td>34.0</td>\n",
              "      <td>8.0</td>\n",
              "      <td>42.0</td>\n",
              "      <td>0.809524</td>\n",
              "      <td>0.190476</td>\n",
              "      <td>27.0</td>\n",
              "      <td>15.0</td>\n",
              "      <td>42.0</td>\n",
              "      <td>0.642857</td>\n",
              "      <td>0.357143</td>\n",
              "    </tr>\n",
              "    <tr>\n",
              "      <th>67</th>\n",
              "      <td>S</td>\n",
              "      <td>M</td>\n",
              "      <td>15.0</td>\n",
              "      <td>3.0</td>\n",
              "      <td>18.0</td>\n",
              "      <td>0.833333</td>\n",
              "      <td>0.166667</td>\n",
              "      <td>10.0</td>\n",
              "      <td>8.0</td>\n",
              "      <td>18.0</td>\n",
              "      <td>0.555556</td>\n",
              "      <td>0.444444</td>\n",
              "    </tr>\n",
              "    <tr>\n",
              "      <th>68</th>\n",
              "      <td>S</td>\n",
              "      <td>M</td>\n",
              "      <td>20.0</td>\n",
              "      <td>8.0</td>\n",
              "      <td>28.0</td>\n",
              "      <td>0.714286</td>\n",
              "      <td>0.285714</td>\n",
              "      <td>24.0</td>\n",
              "      <td>4.0</td>\n",
              "      <td>28.0</td>\n",
              "      <td>0.857143</td>\n",
              "      <td>0.142857</td>\n",
              "    </tr>\n",
              "  </tbody>\n",
              "</table>\n",
              "<p>69 rows × 12 columns</p>\n",
              "</div>"
            ],
            "text/plain": [
              "   Nacionalidad Género  Hombres  ...  Total Global  Porc Norte  Porc Sur\n",
              "0             N      M     14.0  ...          25.0    0.600000  0.400000\n",
              "1             S      F     37.0  ...          48.0    0.708333  0.291667\n",
              "2             N      M      6.0  ...          11.0    0.636364  0.363636\n",
              "3             N      M     14.0  ...          20.0    0.600000  0.400000\n",
              "4             S      F     26.0  ...          34.0    0.558824  0.441176\n",
              "..          ...    ...      ...  ...           ...         ...       ...\n",
              "64            S      M    126.0  ...         165.0    0.406061  0.593939\n",
              "65            S      M    107.0  ...         162.0    0.907407  0.092593\n",
              "66            S      F     34.0  ...          42.0    0.642857  0.357143\n",
              "67            S      M     15.0  ...          18.0    0.555556  0.444444\n",
              "68            S      M     20.0  ...          28.0    0.857143  0.142857\n",
              "\n",
              "[69 rows x 12 columns]"
            ]
          },
          "metadata": {},
          "execution_count": 12
        }
      ]
    },
    {
      "cell_type": "code",
      "metadata": {
        "colab": {
          "base_uri": "https://localhost:8080/",
          "height": 165
        },
        "id": "w_daPzufNmVA",
        "outputId": "61523a40-acbb-4caf-9ed9-d15f632cece1"
      },
      "source": [
        "conn = sql.connect('dfnac.db')\n",
        "df.to_sql('dfnac', conn)\n",
        "dfnac=pd.read_sql('SELECT Nacionalidad, COUNT(*) AS \"Total\" FROM dfnac GROUP BY Nacionalidad' ,conn)\n",
        "dfnac"
      ],
      "execution_count": null,
      "outputs": [
        {
          "output_type": "stream",
          "name": "stderr",
          "text": [
            "/usr/local/lib/python3.7/dist-packages/pandas/core/generic.py:2615: UserWarning: The spaces in these column names will not be changed. In pandas versions < 0.14, spaces were converted to underscores.\n",
            "  method=method,\n"
          ]
        },
        {
          "output_type": "execute_result",
          "data": {
            "text/html": [
              "<div>\n",
              "<style scoped>\n",
              "    .dataframe tbody tr th:only-of-type {\n",
              "        vertical-align: middle;\n",
              "    }\n",
              "\n",
              "    .dataframe tbody tr th {\n",
              "        vertical-align: top;\n",
              "    }\n",
              "\n",
              "    .dataframe thead th {\n",
              "        text-align: right;\n",
              "    }\n",
              "</style>\n",
              "<table border=\"1\" class=\"dataframe\">\n",
              "  <thead>\n",
              "    <tr style=\"text-align: right;\">\n",
              "      <th></th>\n",
              "      <th>Nacionalidad</th>\n",
              "      <th>Total</th>\n",
              "    </tr>\n",
              "  </thead>\n",
              "  <tbody>\n",
              "    <tr>\n",
              "      <th>0</th>\n",
              "      <td>N</td>\n",
              "      <td>10</td>\n",
              "    </tr>\n",
              "    <tr>\n",
              "      <th>1</th>\n",
              "      <td>S</td>\n",
              "      <td>59</td>\n",
              "    </tr>\n",
              "  </tbody>\n",
              "</table>\n",
              "</div>"
            ],
            "text/plain": [
              "  Nacionalidad  Total\n",
              "0            N     10\n",
              "1            S     59"
            ]
          },
          "metadata": {},
          "execution_count": 13
        }
      ]
    },
    {
      "cell_type": "code",
      "metadata": {
        "colab": {
          "base_uri": "https://localhost:8080/",
          "height": 165
        },
        "id": "VmlaeAC2P_Rc",
        "outputId": "3bc98f2c-8663-4e37-c0f7-22871fc70860"
      },
      "source": [
        "conn = sql.connect('dfgen8.db')\n",
        "df.to_sql('dfgen8', conn)\n",
        "dfgen=pd.read_sql('SELECT Género, COUNT(*) AS \"Total\" FROM dfgen8 GROUP BY Género' ,conn)\n",
        "dfgen"
      ],
      "execution_count": null,
      "outputs": [
        {
          "output_type": "stream",
          "name": "stderr",
          "text": [
            "/usr/local/lib/python3.7/dist-packages/pandas/core/generic.py:2615: UserWarning: The spaces in these column names will not be changed. In pandas versions < 0.14, spaces were converted to underscores.\n",
            "  method=method,\n"
          ]
        },
        {
          "output_type": "execute_result",
          "data": {
            "text/html": [
              "<div>\n",
              "<style scoped>\n",
              "    .dataframe tbody tr th:only-of-type {\n",
              "        vertical-align: middle;\n",
              "    }\n",
              "\n",
              "    .dataframe tbody tr th {\n",
              "        vertical-align: top;\n",
              "    }\n",
              "\n",
              "    .dataframe thead th {\n",
              "        text-align: right;\n",
              "    }\n",
              "</style>\n",
              "<table border=\"1\" class=\"dataframe\">\n",
              "  <thead>\n",
              "    <tr style=\"text-align: right;\">\n",
              "      <th></th>\n",
              "      <th>Género</th>\n",
              "      <th>Total</th>\n",
              "    </tr>\n",
              "  </thead>\n",
              "  <tbody>\n",
              "    <tr>\n",
              "      <th>0</th>\n",
              "      <td>F</td>\n",
              "      <td>32</td>\n",
              "    </tr>\n",
              "    <tr>\n",
              "      <th>1</th>\n",
              "      <td>M</td>\n",
              "      <td>37</td>\n",
              "    </tr>\n",
              "  </tbody>\n",
              "</table>\n",
              "</div>"
            ],
            "text/plain": [
              "  Género  Total\n",
              "0      F     32\n",
              "1      M     37"
            ]
          },
          "metadata": {},
          "execution_count": 14
        }
      ]
    },
    {
      "cell_type": "code",
      "metadata": {
        "colab": {
          "base_uri": "https://localhost:8080/",
          "height": 419
        },
        "id": "CRFASn7PHooE",
        "outputId": "aa1310e7-6a30-4f5b-f537-334168fadcc4"
      },
      "source": [
        "dfplot=pd.melt(df, id_vars=['Nacionalidad','Género','Norte','Sur'], value_vars=['Hombres', 'Mujeres'], var_name='Género Autor', value_name='Total Género Autor')\n",
        "dfplot=pd.melt(dfplot, id_vars=['Nacionalidad','Género','Género Autor','Total Género Autor'], value_vars=['Norte', 'Sur'], var_name='Origen Autor', value_name='Total Origen Autor')\n",
        "dfplot"
      ],
      "execution_count": null,
      "outputs": [
        {
          "output_type": "execute_result",
          "data": {
            "text/html": [
              "<div>\n",
              "<style scoped>\n",
              "    .dataframe tbody tr th:only-of-type {\n",
              "        vertical-align: middle;\n",
              "    }\n",
              "\n",
              "    .dataframe tbody tr th {\n",
              "        vertical-align: top;\n",
              "    }\n",
              "\n",
              "    .dataframe thead th {\n",
              "        text-align: right;\n",
              "    }\n",
              "</style>\n",
              "<table border=\"1\" class=\"dataframe\">\n",
              "  <thead>\n",
              "    <tr style=\"text-align: right;\">\n",
              "      <th></th>\n",
              "      <th>Nacionalidad</th>\n",
              "      <th>Género</th>\n",
              "      <th>Género Autor</th>\n",
              "      <th>Total Género Autor</th>\n",
              "      <th>Origen Autor</th>\n",
              "      <th>Total Origen Autor</th>\n",
              "    </tr>\n",
              "  </thead>\n",
              "  <tbody>\n",
              "    <tr>\n",
              "      <th>0</th>\n",
              "      <td>N</td>\n",
              "      <td>M</td>\n",
              "      <td>Hombres</td>\n",
              "      <td>14.0</td>\n",
              "      <td>Norte</td>\n",
              "      <td>15.0</td>\n",
              "    </tr>\n",
              "    <tr>\n",
              "      <th>1</th>\n",
              "      <td>S</td>\n",
              "      <td>F</td>\n",
              "      <td>Hombres</td>\n",
              "      <td>37.0</td>\n",
              "      <td>Norte</td>\n",
              "      <td>34.0</td>\n",
              "    </tr>\n",
              "    <tr>\n",
              "      <th>2</th>\n",
              "      <td>N</td>\n",
              "      <td>M</td>\n",
              "      <td>Hombres</td>\n",
              "      <td>6.0</td>\n",
              "      <td>Norte</td>\n",
              "      <td>7.0</td>\n",
              "    </tr>\n",
              "    <tr>\n",
              "      <th>3</th>\n",
              "      <td>N</td>\n",
              "      <td>M</td>\n",
              "      <td>Hombres</td>\n",
              "      <td>14.0</td>\n",
              "      <td>Norte</td>\n",
              "      <td>12.0</td>\n",
              "    </tr>\n",
              "    <tr>\n",
              "      <th>4</th>\n",
              "      <td>S</td>\n",
              "      <td>F</td>\n",
              "      <td>Hombres</td>\n",
              "      <td>26.0</td>\n",
              "      <td>Norte</td>\n",
              "      <td>19.0</td>\n",
              "    </tr>\n",
              "    <tr>\n",
              "      <th>...</th>\n",
              "      <td>...</td>\n",
              "      <td>...</td>\n",
              "      <td>...</td>\n",
              "      <td>...</td>\n",
              "      <td>...</td>\n",
              "      <td>...</td>\n",
              "    </tr>\n",
              "    <tr>\n",
              "      <th>271</th>\n",
              "      <td>S</td>\n",
              "      <td>M</td>\n",
              "      <td>Mujeres</td>\n",
              "      <td>39.0</td>\n",
              "      <td>Sur</td>\n",
              "      <td>98.0</td>\n",
              "    </tr>\n",
              "    <tr>\n",
              "      <th>272</th>\n",
              "      <td>S</td>\n",
              "      <td>M</td>\n",
              "      <td>Mujeres</td>\n",
              "      <td>57.0</td>\n",
              "      <td>Sur</td>\n",
              "      <td>15.0</td>\n",
              "    </tr>\n",
              "    <tr>\n",
              "      <th>273</th>\n",
              "      <td>S</td>\n",
              "      <td>F</td>\n",
              "      <td>Mujeres</td>\n",
              "      <td>8.0</td>\n",
              "      <td>Sur</td>\n",
              "      <td>15.0</td>\n",
              "    </tr>\n",
              "    <tr>\n",
              "      <th>274</th>\n",
              "      <td>S</td>\n",
              "      <td>M</td>\n",
              "      <td>Mujeres</td>\n",
              "      <td>3.0</td>\n",
              "      <td>Sur</td>\n",
              "      <td>8.0</td>\n",
              "    </tr>\n",
              "    <tr>\n",
              "      <th>275</th>\n",
              "      <td>S</td>\n",
              "      <td>M</td>\n",
              "      <td>Mujeres</td>\n",
              "      <td>8.0</td>\n",
              "      <td>Sur</td>\n",
              "      <td>4.0</td>\n",
              "    </tr>\n",
              "  </tbody>\n",
              "</table>\n",
              "<p>276 rows × 6 columns</p>\n",
              "</div>"
            ],
            "text/plain": [
              "    Nacionalidad Género  ... Origen Autor  Total Origen Autor\n",
              "0              N      M  ...        Norte                15.0\n",
              "1              S      F  ...        Norte                34.0\n",
              "2              N      M  ...        Norte                 7.0\n",
              "3              N      M  ...        Norte                12.0\n",
              "4              S      F  ...        Norte                19.0\n",
              "..           ...    ...  ...          ...                 ...\n",
              "271            S      M  ...          Sur                98.0\n",
              "272            S      M  ...          Sur                15.0\n",
              "273            S      F  ...          Sur                15.0\n",
              "274            S      M  ...          Sur                 8.0\n",
              "275            S      M  ...          Sur                 4.0\n",
              "\n",
              "[276 rows x 6 columns]"
            ]
          },
          "metadata": {},
          "execution_count": 15
        }
      ]
    },
    {
      "cell_type": "code",
      "metadata": {
        "colab": {
          "base_uri": "https://localhost:8080/",
          "height": 497
        },
        "id": "qT6EjjI_J8wq",
        "outputId": "5498dd1c-89cc-4b43-e286-34be99e3421c"
      },
      "source": [
        "%%R -i dfplot\n",
        "\n",
        "library(ggplot2)\n",
        "\n",
        "ggplot(dfplot,aes(Género, `Total Género Autor`,fill=`Género Autor`))+geom_boxplot()+ facet_grid(. ~ `Nacionalidad`)"
      ],
      "execution_count": null,
      "outputs": [
        {
          "output_type": "display_data",
          "data": {
            "image/png": "[encoded data removed]"
          },
          "metadata": {}
        }
      ]
    },
    {
      "cell_type": "code",
      "metadata": {
        "colab": {
          "base_uri": "https://localhost:8080/",
          "height": 227
        },
        "id": "jauSGyvDfJS5",
        "outputId": "deb8e3ef-bc81-4b78-e78a-4ebc88f31fbb"
      },
      "source": [
        "conn = sql.connect('dfpx1.db')\n",
        "df.to_sql('dfpx1', conn)\n",
        "dfpx1=pd.read_sql('SELECT Nacionalidad, Género, COUNT(*) FROM dfpx1 GROUP BY Nacionalidad, Género' ,conn)\n",
        "dfpx1"
      ],
      "execution_count": null,
      "outputs": [
        {
          "output_type": "stream",
          "name": "stderr",
          "text": [
            "/usr/local/lib/python3.7/dist-packages/pandas/core/generic.py:2615: UserWarning: The spaces in these column names will not be changed. In pandas versions < 0.14, spaces were converted to underscores.\n",
            "  method=method,\n"
          ]
        },
        {
          "output_type": "execute_result",
          "data": {
            "text/html": [
              "<div>\n",
              "<style scoped>\n",
              "    .dataframe tbody tr th:only-of-type {\n",
              "        vertical-align: middle;\n",
              "    }\n",
              "\n",
              "    .dataframe tbody tr th {\n",
              "        vertical-align: top;\n",
              "    }\n",
              "\n",
              "    .dataframe thead th {\n",
              "        text-align: right;\n",
              "    }\n",
              "</style>\n",
              "<table border=\"1\" class=\"dataframe\">\n",
              "  <thead>\n",
              "    <tr style=\"text-align: right;\">\n",
              "      <th></th>\n",
              "      <th>Nacionalidad</th>\n",
              "      <th>Género</th>\n",
              "      <th>COUNT(*)</th>\n",
              "    </tr>\n",
              "  </thead>\n",
              "  <tbody>\n",
              "    <tr>\n",
              "      <th>0</th>\n",
              "      <td>N</td>\n",
              "      <td>F</td>\n",
              "      <td>4</td>\n",
              "    </tr>\n",
              "    <tr>\n",
              "      <th>1</th>\n",
              "      <td>N</td>\n",
              "      <td>M</td>\n",
              "      <td>6</td>\n",
              "    </tr>\n",
              "    <tr>\n",
              "      <th>2</th>\n",
              "      <td>S</td>\n",
              "      <td>F</td>\n",
              "      <td>28</td>\n",
              "    </tr>\n",
              "    <tr>\n",
              "      <th>3</th>\n",
              "      <td>S</td>\n",
              "      <td>M</td>\n",
              "      <td>31</td>\n",
              "    </tr>\n",
              "  </tbody>\n",
              "</table>\n",
              "</div>"
            ],
            "text/plain": [
              "  Nacionalidad Género  COUNT(*)\n",
              "0            N      F         4\n",
              "1            N      M         6\n",
              "2            S      F        28\n",
              "3            S      M        31"
            ]
          },
          "metadata": {},
          "execution_count": 17
        }
      ]
    },
    {
      "cell_type": "code",
      "metadata": {
        "colab": {
          "base_uri": "https://localhost:8080/",
          "height": 497
        },
        "id": "2k6-nIAMgCG9",
        "outputId": "ef5153aa-ae60-4b05-b8a1-810785fc199e"
      },
      "source": [
        "%%R -i dfplot\n",
        "\n",
        "library(ggplot2)\n",
        "\n",
        "ggplot(dfplot,aes(Género, `Total Género Autor`,fill=`Género Autor`))+geom_boxplot()"
      ],
      "execution_count": null,
      "outputs": [
        {
          "output_type": "display_data",
          "data": {
            "image/png": "[encoded data removed]"
          },
          "metadata": {}
        }
      ]
    },
    {
      "cell_type": "code",
      "metadata": {
        "colab": {
          "base_uri": "https://localhost:8080/",
          "height": 165
        },
        "id": "_t353W5Ff5FC",
        "outputId": "b2329e34-d74a-4c3d-93e8-4910aa831130"
      },
      "source": [
        "conn = sql.connect('dfpx5.db')\n",
        "df.to_sql('dfpx5', conn)\n",
        "dfpx5=pd.read_sql('SELECT Género, SUM(Mujeres), SUM(Total) FROM dfpx5 GROUP BY Género' ,conn)\n",
        "dfpx5"
      ],
      "execution_count": null,
      "outputs": [
        {
          "output_type": "stream",
          "name": "stderr",
          "text": [
            "/usr/local/lib/python3.7/dist-packages/pandas/core/generic.py:2615: UserWarning: The spaces in these column names will not be changed. In pandas versions < 0.14, spaces were converted to underscores.\n",
            "  method=method,\n"
          ]
        },
        {
          "output_type": "execute_result",
          "data": {
            "text/html": [
              "<div>\n",
              "<style scoped>\n",
              "    .dataframe tbody tr th:only-of-type {\n",
              "        vertical-align: middle;\n",
              "    }\n",
              "\n",
              "    .dataframe tbody tr th {\n",
              "        vertical-align: top;\n",
              "    }\n",
              "\n",
              "    .dataframe thead th {\n",
              "        text-align: right;\n",
              "    }\n",
              "</style>\n",
              "<table border=\"1\" class=\"dataframe\">\n",
              "  <thead>\n",
              "    <tr style=\"text-align: right;\">\n",
              "      <th></th>\n",
              "      <th>Género</th>\n",
              "      <th>SUM(Mujeres)</th>\n",
              "      <th>SUM(Total)</th>\n",
              "    </tr>\n",
              "  </thead>\n",
              "  <tbody>\n",
              "    <tr>\n",
              "      <th>0</th>\n",
              "      <td>F</td>\n",
              "      <td>202.0</td>\n",
              "      <td>850.0</td>\n",
              "    </tr>\n",
              "    <tr>\n",
              "      <th>1</th>\n",
              "      <td>M</td>\n",
              "      <td>380.0</td>\n",
              "      <td>1609.0</td>\n",
              "    </tr>\n",
              "  </tbody>\n",
              "</table>\n",
              "</div>"
            ],
            "text/plain": [
              "  Género  SUM(Mujeres)  SUM(Total)\n",
              "0      F         202.0       850.0\n",
              "1      M         380.0      1609.0"
            ]
          },
          "metadata": {},
          "execution_count": 19
        }
      ]
    },
    {
      "cell_type": "markdown",
      "metadata": {
        "id": "vkquBBZDg9_n"
      },
      "source": [
        "Parece ser que las mujeres no pasan del 25% en las recomendaciones por profesores..."
      ]
    },
    {
      "cell_type": "code",
      "metadata": {
        "colab": {
          "base_uri": "https://localhost:8080/",
          "height": 134
        },
        "id": "RpeFkDQ8hJY7",
        "outputId": "8b800e76-d99c-4985-ad23-8751f78c8c4f"
      },
      "source": [
        "conn = sql.connect('dfpx6.db')\n",
        "df.to_sql('dfpx6', conn)\n",
        "dfpx6=pd.read_sql('SELECT SUM(Mujeres), SUM(Total) FROM dfpx6' ,conn)\n",
        "dfpx6"
      ],
      "execution_count": null,
      "outputs": [
        {
          "output_type": "stream",
          "name": "stderr",
          "text": [
            "/usr/local/lib/python3.7/dist-packages/pandas/core/generic.py:2615: UserWarning: The spaces in these column names will not be changed. In pandas versions < 0.14, spaces were converted to underscores.\n",
            "  method=method,\n"
          ]
        },
        {
          "output_type": "execute_result",
          "data": {
            "text/html": [
              "<div>\n",
              "<style scoped>\n",
              "    .dataframe tbody tr th:only-of-type {\n",
              "        vertical-align: middle;\n",
              "    }\n",
              "\n",
              "    .dataframe tbody tr th {\n",
              "        vertical-align: top;\n",
              "    }\n",
              "\n",
              "    .dataframe thead th {\n",
              "        text-align: right;\n",
              "    }\n",
              "</style>\n",
              "<table border=\"1\" class=\"dataframe\">\n",
              "  <thead>\n",
              "    <tr style=\"text-align: right;\">\n",
              "      <th></th>\n",
              "      <th>SUM(Mujeres)</th>\n",
              "      <th>SUM(Total)</th>\n",
              "    </tr>\n",
              "  </thead>\n",
              "  <tbody>\n",
              "    <tr>\n",
              "      <th>0</th>\n",
              "      <td>582.0</td>\n",
              "      <td>2459.0</td>\n",
              "    </tr>\n",
              "  </tbody>\n",
              "</table>\n",
              "</div>"
            ],
            "text/plain": [
              "   SUM(Mujeres)  SUM(Total)\n",
              "0         582.0      2459.0"
            ]
          },
          "metadata": {},
          "execution_count": 20
        }
      ]
    },
    {
      "cell_type": "markdown",
      "metadata": {
        "id": "-oFsFwTH53of"
      },
      "source": [
        "Tal parece que sí... Comprobémoslo!"
      ]
    },
    {
      "cell_type": "code",
      "metadata": {
        "colab": {
          "base_uri": "https://localhost:8080/"
        },
        "id": "N6Dh9atohgeW",
        "outputId": "098455d5-66c7-43cb-cf82-3af78eab553a"
      },
      "source": [
        "%%R\n",
        "\n",
        "prop.test(x=582, n=2459, conf.level=0.95)"
      ],
      "execution_count": null,
      "outputs": [
        {
          "output_type": "stream",
          "name": "stdout",
          "text": [
            "\n",
            "\t1-sample proportions test with continuity correction\n",
            "\n",
            "data:  582 out of 2459, null probability 0.5\n",
            "X-squared = 680.94, df = 1, p-value < 2.2e-16\n",
            "alternative hypothesis: true p is not equal to 0.5\n",
            "95 percent confidence interval:\n",
            " 0.2201025 0.2540920\n",
            "sample estimates:\n",
            "        p \n",
            "0.2366816 \n",
            "\n"
          ]
        }
      ]
    },
    {
      "cell_type": "markdown",
      "metadata": {
        "id": "pKUWDiL6kSAd"
      },
      "source": [
        "Veamos ahora comparando géneros de profesores...\n"
      ]
    },
    {
      "cell_type": "code",
      "metadata": {
        "colab": {
          "base_uri": "https://localhost:8080/"
        },
        "id": "lCFhjsS-kVze",
        "outputId": "b97fc021-de8b-44cc-ef2f-504705c621d0"
      },
      "source": [
        "%%R\n",
        "\n",
        "prop.test(x=c(380,202), n=c(1609,850), conf.level=0.95)"
      ],
      "execution_count": null,
      "outputs": [
        {
          "output_type": "stream",
          "name": "stdout",
          "text": [
            "\n",
            "\t2-sample test for equality of proportions with continuity correction\n",
            "\n",
            "data:  c(380, 202) out of c(1609, 850)\n",
            "X-squared = 0.0010233, df = 1, p-value = 0.9745\n",
            "alternative hypothesis: two.sided\n",
            "95 percent confidence interval:\n",
            " -0.03772230  0.03477125\n",
            "sample estimates:\n",
            "   prop 1    prop 2 \n",
            "0.2361715 0.2376471 \n",
            "\n"
          ]
        }
      ]
    },
    {
      "cell_type": "markdown",
      "metadata": {
        "id": "PKcfESnjkf5M"
      },
      "source": [
        "No hay diferencias..."
      ]
    },
    {
      "cell_type": "code",
      "metadata": {
        "colab": {
          "base_uri": "https://localhost:8080/",
          "height": 497
        },
        "id": "mmCWDXnMKvYk",
        "outputId": "94f37b4d-a3a6-48c5-f330-66736e1df77f"
      },
      "source": [
        "%%R -i dfplot\n",
        "\n",
        "library(ggplot2)\n",
        "\n",
        "ggplot(dfplot,aes(Género, `Total Origen Autor`,fill=`Origen Autor`))+geom_boxplot()+ facet_grid(. ~ `Nacionalidad`)"
      ],
      "execution_count": null,
      "outputs": [
        {
          "output_type": "display_data",
          "data": {
            "image/png": "[encoded data removed]"
          },
          "metadata": {}
        }
      ]
    },
    {
      "cell_type": "code",
      "metadata": {
        "colab": {
          "base_uri": "https://localhost:8080/",
          "height": 497
        },
        "id": "6VS8dKjVi_ym",
        "outputId": "1ce050bc-0c86-457f-e9d8-a95294094032"
      },
      "source": [
        "%%R -i dfplot\n",
        "\n",
        "library(ggplot2)\n",
        "\n",
        "ggplot(dfplot,aes(Género, `Total Origen Autor`,fill=`Origen Autor`))+geom_boxplot()"
      ],
      "execution_count": null,
      "outputs": [
        {
          "output_type": "display_data",
          "data": {
            "image/png": "[encoded data removed]"
          },
          "metadata": {}
        }
      ]
    },
    {
      "cell_type": "code",
      "metadata": {
        "colab": {
          "base_uri": "https://localhost:8080/",
          "height": 165
        },
        "id": "dAjoDpRMiosl",
        "outputId": "b8f0e855-7ad1-45d1-fcea-135b6ccd86c4"
      },
      "source": [
        "conn = sql.connect('dfpy5.db')\n",
        "df.to_sql('dfpy5', conn)\n",
        "dfpy5=pd.read_sql('SELECT Género, SUM(Sur), SUM(\"Total Global\") FROM dfpy5 GROUP BY Género' ,conn)\n",
        "dfpy5"
      ],
      "execution_count": null,
      "outputs": [
        {
          "output_type": "stream",
          "name": "stderr",
          "text": [
            "/usr/local/lib/python3.7/dist-packages/pandas/core/generic.py:2615: UserWarning: The spaces in these column names will not be changed. In pandas versions < 0.14, spaces were converted to underscores.\n",
            "  method=method,\n"
          ]
        },
        {
          "output_type": "execute_result",
          "data": {
            "text/html": [
              "<div>\n",
              "<style scoped>\n",
              "    .dataframe tbody tr th:only-of-type {\n",
              "        vertical-align: middle;\n",
              "    }\n",
              "\n",
              "    .dataframe tbody tr th {\n",
              "        vertical-align: top;\n",
              "    }\n",
              "\n",
              "    .dataframe thead th {\n",
              "        text-align: right;\n",
              "    }\n",
              "</style>\n",
              "<table border=\"1\" class=\"dataframe\">\n",
              "  <thead>\n",
              "    <tr style=\"text-align: right;\">\n",
              "      <th></th>\n",
              "      <th>Género</th>\n",
              "      <th>SUM(Sur)</th>\n",
              "      <th>SUM(\"Total Global\")</th>\n",
              "    </tr>\n",
              "  </thead>\n",
              "  <tbody>\n",
              "    <tr>\n",
              "      <th>0</th>\n",
              "      <td>F</td>\n",
              "      <td>321.0</td>\n",
              "      <td>848.0</td>\n",
              "    </tr>\n",
              "    <tr>\n",
              "      <th>1</th>\n",
              "      <td>M</td>\n",
              "      <td>522.0</td>\n",
              "      <td>1604.0</td>\n",
              "    </tr>\n",
              "  </tbody>\n",
              "</table>\n",
              "</div>"
            ],
            "text/plain": [
              "  Género  SUM(Sur)  SUM(\"Total Global\")\n",
              "0      F     321.0                848.0\n",
              "1      M     522.0               1604.0"
            ]
          },
          "metadata": {},
          "execution_count": 25
        }
      ]
    },
    {
      "cell_type": "markdown",
      "metadata": {
        "id": "BVFGMqFOjasK"
      },
      "source": [
        "Parece ser que los profesores del sur no pasan del 33% en las recomendaciones por profesores..."
      ]
    },
    {
      "cell_type": "code",
      "metadata": {
        "colab": {
          "base_uri": "https://localhost:8080/",
          "height": 134
        },
        "id": "C4RajEbvjeil",
        "outputId": "5d64658c-ec36-4f0e-969d-91ef73d8a010"
      },
      "source": [
        "conn = sql.connect('dfpy6.db')\n",
        "df.to_sql('dfpy6', conn)\n",
        "dfpy6=pd.read_sql('SELECT SUM(Sur), SUM(\"Total Global\") FROM dfpy6' ,conn)\n",
        "dfpy6"
      ],
      "execution_count": null,
      "outputs": [
        {
          "output_type": "stream",
          "name": "stderr",
          "text": [
            "/usr/local/lib/python3.7/dist-packages/pandas/core/generic.py:2615: UserWarning: The spaces in these column names will not be changed. In pandas versions < 0.14, spaces were converted to underscores.\n",
            "  method=method,\n"
          ]
        },
        {
          "output_type": "execute_result",
          "data": {
            "text/html": [
              "<div>\n",
              "<style scoped>\n",
              "    .dataframe tbody tr th:only-of-type {\n",
              "        vertical-align: middle;\n",
              "    }\n",
              "\n",
              "    .dataframe tbody tr th {\n",
              "        vertical-align: top;\n",
              "    }\n",
              "\n",
              "    .dataframe thead th {\n",
              "        text-align: right;\n",
              "    }\n",
              "</style>\n",
              "<table border=\"1\" class=\"dataframe\">\n",
              "  <thead>\n",
              "    <tr style=\"text-align: right;\">\n",
              "      <th></th>\n",
              "      <th>SUM(Sur)</th>\n",
              "      <th>SUM(\"Total Global\")</th>\n",
              "    </tr>\n",
              "  </thead>\n",
              "  <tbody>\n",
              "    <tr>\n",
              "      <th>0</th>\n",
              "      <td>843.0</td>\n",
              "      <td>2452.0</td>\n",
              "    </tr>\n",
              "  </tbody>\n",
              "</table>\n",
              "</div>"
            ],
            "text/plain": [
              "   SUM(Sur)  SUM(\"Total Global\")\n",
              "0     843.0               2452.0"
            ]
          },
          "metadata": {},
          "execution_count": 26
        }
      ]
    },
    {
      "cell_type": "markdown",
      "metadata": {
        "id": "hECJ8mjnjr8S"
      },
      "source": [
        "Tal parece que sí... Comprobémoslo!"
      ]
    },
    {
      "cell_type": "code",
      "metadata": {
        "colab": {
          "base_uri": "https://localhost:8080/"
        },
        "id": "tG2Iat-Kjo__",
        "outputId": "b8fc6205-b765-4259-c13a-dc13169958d1"
      },
      "source": [
        "%%R\n",
        "\n",
        "prop.test(x=843, n=2452, conf.level=0.95)"
      ],
      "execution_count": null,
      "outputs": [
        {
          "output_type": "stream",
          "name": "stdout",
          "text": [
            "\n",
            "\t1-sample proportions test with continuity correction\n",
            "\n",
            "data:  843 out of 2452, null probability 0.5\n",
            "X-squared = 238.67, df = 1, p-value < 2.2e-16\n",
            "alternative hypothesis: true p is not equal to 0.5\n",
            "95 percent confidence interval:\n",
            " 0.3250574 0.3630385\n",
            "sample estimates:\n",
            "       p \n",
            "0.343801 \n",
            "\n"
          ]
        }
      ]
    },
    {
      "cell_type": "markdown",
      "metadata": {
        "id": "WVTmcfnLksa5"
      },
      "source": [
        "Veamos ahora comparando géneros de profesores..."
      ]
    },
    {
      "cell_type": "code",
      "metadata": {
        "colab": {
          "base_uri": "https://localhost:8080/"
        },
        "id": "wErjNS10ksFe",
        "outputId": "c0352c68-a676-4a38-f143-446ee84c2ea9"
      },
      "source": [
        "%%R\n",
        "\n",
        "prop.test(x=c(522,321), n=c(1604,848), conf.level=0.95)"
      ],
      "execution_count": null,
      "outputs": [
        {
          "output_type": "stream",
          "name": "stdout",
          "text": [
            "\n",
            "\t2-sample test for equality of proportions with continuity correction\n",
            "\n",
            "data:  c(522, 321) out of c(1604, 848)\n",
            "X-squared = 6.7, df = 1, p-value = 0.009641\n",
            "alternative hypothesis: two.sided\n",
            "95 percent confidence interval:\n",
            " -0.09389535 -0.01230731\n",
            "sample estimates:\n",
            "   prop 1    prop 2 \n",
            "0.3254364 0.3785377 \n",
            "\n"
          ]
        }
      ]
    },
    {
      "cell_type": "markdown",
      "metadata": {
        "id": "1rcyZ_aUyLAl"
      },
      "source": [
        "## 16 de octubre"
      ]
    },
    {
      "cell_type": "code",
      "metadata": {
        "colab": {
          "base_uri": "https://localhost:8080/",
          "height": 165
        },
        "id": "KZKk96WisnE_",
        "outputId": "c9492d81-8eea-4589-b105-b906705190b3"
      },
      "source": [
        "conn = sql.connect('dfpxyz.db')\n",
        "df.to_sql('dfpxyz', conn)\n",
        "dfpxyz=pd.read_sql('SELECT Género, SUM(Mujeres), SUM(Total), SUM(Sur), SUM(\"Total Global\") FROM dfpxyz WHERE Nacionalidad=\"S\" GROUP BY Género' ,conn)\n",
        "dfpxyz"
      ],
      "execution_count": null,
      "outputs": [
        {
          "output_type": "stream",
          "name": "stderr",
          "text": [
            "/usr/local/lib/python3.7/dist-packages/pandas/core/generic.py:2615: UserWarning: The spaces in these column names will not be changed. In pandas versions < 0.14, spaces were converted to underscores.\n",
            "  method=method,\n"
          ]
        },
        {
          "output_type": "execute_result",
          "data": {
            "text/html": [
              "<div>\n",
              "<style scoped>\n",
              "    .dataframe tbody tr th:only-of-type {\n",
              "        vertical-align: middle;\n",
              "    }\n",
              "\n",
              "    .dataframe tbody tr th {\n",
              "        vertical-align: top;\n",
              "    }\n",
              "\n",
              "    .dataframe thead th {\n",
              "        text-align: right;\n",
              "    }\n",
              "</style>\n",
              "<table border=\"1\" class=\"dataframe\">\n",
              "  <thead>\n",
              "    <tr style=\"text-align: right;\">\n",
              "      <th></th>\n",
              "      <th>Género</th>\n",
              "      <th>SUM(Mujeres)</th>\n",
              "      <th>SUM(Total)</th>\n",
              "      <th>SUM(Sur)</th>\n",
              "      <th>SUM(\"Total Global\")</th>\n",
              "    </tr>\n",
              "  </thead>\n",
              "  <tbody>\n",
              "    <tr>\n",
              "      <th>0</th>\n",
              "      <td>F</td>\n",
              "      <td>166.0</td>\n",
              "      <td>715.0</td>\n",
              "      <td>290.0</td>\n",
              "      <td>715.0</td>\n",
              "    </tr>\n",
              "    <tr>\n",
              "      <th>1</th>\n",
              "      <td>M</td>\n",
              "      <td>301.0</td>\n",
              "      <td>1365.0</td>\n",
              "      <td>456.0</td>\n",
              "      <td>1360.0</td>\n",
              "    </tr>\n",
              "  </tbody>\n",
              "</table>\n",
              "</div>"
            ],
            "text/plain": [
              "  Género  SUM(Mujeres)  SUM(Total)  SUM(Sur)  SUM(\"Total Global\")\n",
              "0      F         166.0       715.0     290.0                715.0\n",
              "1      M         301.0      1365.0     456.0               1360.0"
            ]
          },
          "metadata": {},
          "execution_count": 35
        }
      ]
    },
    {
      "cell_type": "code",
      "metadata": {
        "colab": {
          "base_uri": "https://localhost:8080/"
        },
        "id": "Z6iMpMrzugaP",
        "outputId": "110ed39d-cfca-437e-83de-774463d4e998"
      },
      "source": [
        "%%R\n",
        "\n",
        "prop.test(x=c(456,290), n=c(1360,715), conf.level=0.95)"
      ],
      "execution_count": null,
      "outputs": [
        {
          "output_type": "stream",
          "name": "stdout",
          "text": [
            "\n",
            "\t2-sample test for equality of proportions with continuity correction\n",
            "\n",
            "data:  c(456, 290) out of c(1360, 715)\n",
            "X-squared = 9.7551, df = 1, p-value = 0.001788\n",
            "alternative hypothesis: two.sided\n",
            "95 percent confidence interval:\n",
            " -0.1152399 -0.0253607\n",
            "sample estimates:\n",
            "   prop 1    prop 2 \n",
            "0.3352941 0.4055944 \n",
            "\n"
          ]
        }
      ]
    },
    {
      "cell_type": "code",
      "metadata": {
        "colab": {
          "base_uri": "https://localhost:8080/"
        },
        "id": "Z5qF2WHAv03h",
        "outputId": "be8b6816-26ff-4f99-874d-5b997e556354"
      },
      "source": [
        "%%R\n",
        "\n",
        "prop.test(x=c(301,166), n=c(1365,715), conf.level=0.95)"
      ],
      "execution_count": null,
      "outputs": [
        {
          "output_type": "stream",
          "name": "stdout",
          "text": [
            "\n",
            "\t2-sample test for equality of proportions with continuity correction\n",
            "\n",
            "data:  c(301, 166) out of c(1365, 715)\n",
            "X-squared = 0.3022, df = 1, p-value = 0.5825\n",
            "alternative hypothesis: two.sided\n",
            "95 percent confidence interval:\n",
            " -0.05068767  0.02737765\n",
            "sample estimates:\n",
            "   prop 1    prop 2 \n",
            "0.2205128 0.2321678 \n",
            "\n"
          ]
        }
      ]
    },
    {
      "cell_type": "code",
      "metadata": {
        "colab": {
          "base_uri": "https://localhost:8080/",
          "height": 165
        },
        "id": "PliI98-Ov9mx",
        "outputId": "9a1458c3-89ba-49ab-d57c-212823913f4f"
      },
      "source": [
        "conn = sql.connect('dfpxyzw.db')\n",
        "df.to_sql('dfpxyzw', conn)\n",
        "dfpxyzw=pd.read_sql('SELECT Género, SUM(Mujeres), SUM(Total), SUM(Sur), SUM(\"Total Global\") FROM dfpxyzw WHERE Nacionalidad=\"N\" GROUP BY Género' ,conn)\n",
        "dfpxyzw"
      ],
      "execution_count": null,
      "outputs": [
        {
          "output_type": "stream",
          "name": "stderr",
          "text": [
            "/usr/local/lib/python3.7/dist-packages/pandas/core/generic.py:2615: UserWarning: The spaces in these column names will not be changed. In pandas versions < 0.14, spaces were converted to underscores.\n",
            "  method=method,\n"
          ]
        },
        {
          "output_type": "execute_result",
          "data": {
            "text/html": [
              "<div>\n",
              "<style scoped>\n",
              "    .dataframe tbody tr th:only-of-type {\n",
              "        vertical-align: middle;\n",
              "    }\n",
              "\n",
              "    .dataframe tbody tr th {\n",
              "        vertical-align: top;\n",
              "    }\n",
              "\n",
              "    .dataframe thead th {\n",
              "        text-align: right;\n",
              "    }\n",
              "</style>\n",
              "<table border=\"1\" class=\"dataframe\">\n",
              "  <thead>\n",
              "    <tr style=\"text-align: right;\">\n",
              "      <th></th>\n",
              "      <th>Género</th>\n",
              "      <th>SUM(Mujeres)</th>\n",
              "      <th>SUM(Total)</th>\n",
              "      <th>SUM(Sur)</th>\n",
              "      <th>SUM(\"Total Global\")</th>\n",
              "    </tr>\n",
              "  </thead>\n",
              "  <tbody>\n",
              "    <tr>\n",
              "      <th>0</th>\n",
              "      <td>F</td>\n",
              "      <td>36.0</td>\n",
              "      <td>135.0</td>\n",
              "      <td>31.0</td>\n",
              "      <td>133.0</td>\n",
              "    </tr>\n",
              "    <tr>\n",
              "      <th>1</th>\n",
              "      <td>M</td>\n",
              "      <td>79.0</td>\n",
              "      <td>244.0</td>\n",
              "      <td>66.0</td>\n",
              "      <td>244.0</td>\n",
              "    </tr>\n",
              "  </tbody>\n",
              "</table>\n",
              "</div>"
            ],
            "text/plain": [
              "  Género  SUM(Mujeres)  SUM(Total)  SUM(Sur)  SUM(\"Total Global\")\n",
              "0      F          36.0       135.0      31.0                133.0\n",
              "1      M          79.0       244.0      66.0                244.0"
            ]
          },
          "metadata": {},
          "execution_count": 39
        }
      ]
    },
    {
      "cell_type": "code",
      "metadata": {
        "colab": {
          "base_uri": "https://localhost:8080/"
        },
        "id": "MlRv1erHwGWo",
        "outputId": "1fe6e511-9aec-4947-b44a-20c66a6c8df9"
      },
      "source": [
        "%%R\n",
        "\n",
        "prop.test(x=c(79,36), n=c(244,135), conf.level=0.95)"
      ],
      "execution_count": null,
      "outputs": [
        {
          "output_type": "stream",
          "name": "stdout",
          "text": [
            "\n",
            "\t2-sample test for equality of proportions with continuity correction\n",
            "\n",
            "data:  c(79, 36) out of c(244, 135)\n",
            "X-squared = 1.0843, df = 1, p-value = 0.2977\n",
            "alternative hypothesis: two.sided\n",
            "95 percent confidence interval:\n",
            " -0.04357827  0.15778592\n",
            "sample estimates:\n",
            "   prop 1    prop 2 \n",
            "0.3237705 0.2666667 \n",
            "\n"
          ]
        }
      ]
    },
    {
      "cell_type": "code",
      "metadata": {
        "colab": {
          "base_uri": "https://localhost:8080/"
        },
        "id": "Tlfh8_u8wTPC",
        "outputId": "5f9aa7de-6c74-4867-ef77-59e2c12b0fa4"
      },
      "source": [
        "%%R\n",
        "\n",
        "prop.test(x=c(66,31), n=c(244,133), conf.level=0.95)"
      ],
      "execution_count": null,
      "outputs": [
        {
          "output_type": "stream",
          "name": "stdout",
          "text": [
            "\n",
            "\t2-sample test for equality of proportions with continuity correction\n",
            "\n",
            "data:  c(66, 31) out of c(244, 133)\n",
            "X-squared = 0.44982, df = 1, p-value = 0.5024\n",
            "alternative hypothesis: two.sided\n",
            "95 percent confidence interval:\n",
            " -0.0593371  0.1341553\n",
            "sample estimates:\n",
            "   prop 1    prop 2 \n",
            "0.2704918 0.2330827 \n",
            "\n"
          ]
        }
      ]
    },
    {
      "cell_type": "code",
      "metadata": {
        "id": "WSmkjxqDwhf3"
      },
      "source": [
        ""
      ],
      "execution_count": null,
      "outputs": []
    }
  ]
}